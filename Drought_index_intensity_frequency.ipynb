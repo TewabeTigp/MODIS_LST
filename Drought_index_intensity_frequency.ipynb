{
  "nbformat": 4,
  "nbformat_minor": 0,
  "metadata": {
    "colab": {
      "provenance": [],
      "authorship_tag": "ABX9TyMKDfGbM9CBnH5mf9QP4dd/",
      "include_colab_link": true
    },
    "kernelspec": {
      "name": "python3",
      "display_name": "Python 3"
    },
    "language_info": {
      "name": "python"
    }
  },
  "cells": [
    {
      "cell_type": "markdown",
      "metadata": {
        "id": "view-in-github",
        "colab_type": "text"
      },
      "source": [
        "<a href=\"https://colab.research.google.com/github/TewabeTigp/MODIS_LST/blob/main/Drought_index_intensity_frequency.ipynb\" target=\"_parent\"><img src=\"https://colab.research.google.com/assets/colab-badge.svg\" alt=\"Open In Colab\"/></a>"
      ]
    },
    {
      "cell_type": "markdown",
      "source": [
        "# **Compute Drought Metrics from Your 20-Year Drought Index**"
      ],
      "metadata": {
        "id": "HKFnLGuvFrzW"
      }
    },
    {
      "cell_type": "markdown",
      "source": [
        "You need to derive four key drought metrics from your 20-year drought index dataset:\n",
        "\n",
        "Drought Frequency → Count the number of drought events per grid cell.\n",
        "Drought Duration → Compute the average length of consecutive drought periods.\n",
        "Drought Severity → Sum the drought index values for each drought event.\n",
        "Drought Peak → Record the maximum drought index value in each grid cell.\n",
        "Assuming your dataset is a time-series of drought indices (e.g., SPI, SPEI) stored as a raster (GeoTIFF) or NetCDF, process the data to extract these metrics."
      ],
      "metadata": {
        "id": "pUTJvf-ZGAZs"
      }
    },
    {
      "cell_type": "markdown",
      "source": [
        "# **Process Drought Metrics in Python**"
      ],
      "metadata": {
        "id": "HBf6vL2XGHSg"
      }
    },
    {
      "cell_type": "markdown",
      "source": [
        "Load and Analyze the Drought Index Data\n",
        "If your drought index is stored as a NetCDF file (.nc) or raster stack (.tif), use xarray and rasterio."
      ],
      "metadata": {
        "id": "xPzWm8yHGJw4"
      }
    },
    {
      "cell_type": "code",
      "execution_count": null,
      "metadata": {
        "id": "DA9jI0D6Fm4n"
      },
      "outputs": [],
      "source": [
        "import numpy as np\n",
        "import xarray as xr\n",
        "import rasterio\n",
        "\n",
        "# Load drought index dataset (replace 'drought_data.nc' with your actual file)\n",
        "drought_data = xr.open_dataset(\"drought_data.nc\")  # If it's NetCDF\n",
        "drought_index = drought_data['Drought_Index']  # Select drought index variable\n",
        "\n",
        "# Convert to NumPy array\n",
        "drought_values = drought_index.values  # Shape: (Time, Lat, Lon)\n"
      ]
    },
    {
      "cell_type": "markdown",
      "source": [
        "# Calculate Drought Frequency\n",
        "Count the number of drought events where the index is below a threshold (e.g., SPI < -1 or SPEI < -1)."
      ],
      "metadata": {
        "id": "tUbZbJXDGTSH"
      }
    },
    {
      "cell_type": "code",
      "source": [
        "drought_threshold = -1  # Define drought condition (SPI/SPEI < -1)\n",
        "drought_events = drought_values < drought_threshold  # Boolean mask\n",
        "drought_frequency = np.sum(drought_events, axis=0)  # Count occurrences per grid cell\n"
      ],
      "metadata": {
        "id": "PFwLyDZ4GU_g"
      },
      "execution_count": null,
      "outputs": []
    },
    {
      "cell_type": "markdown",
      "source": [
        "# Calculate Drought Duration\n",
        "Find the longest continuous drought period at each pixel."
      ],
      "metadata": {
        "id": "mM9INJOXGgMS"
      }
    },
    {
      "cell_type": "code",
      "source": [
        "def max_consecutive_drought(arr, threshold=-1):\n",
        "    max_duration = 0\n",
        "    current_duration = 0\n",
        "    for val in arr:\n",
        "        if val < threshold:\n",
        "            current_duration += 1\n",
        "            max_duration = max(max_duration, current_duration)\n",
        "        else:\n",
        "            current_duration = 0\n",
        "    return max_duration\n",
        "\n",
        "drought_duration = np.apply_along_axis(max_consecutive_drought, 0, drought_values)\n"
      ],
      "metadata": {
        "id": "t0WXRhQDGkcg"
      },
      "execution_count": null,
      "outputs": []
    },
    {
      "cell_type": "markdown",
      "source": [
        "# Calculate Drought Severity\n",
        "Drought severity is the sum of all negative drought index values for each pixel."
      ],
      "metadata": {
        "id": "ypJiJ7THGm1A"
      }
    },
    {
      "cell_type": "code",
      "source": [
        "drought_severity = np.sum(np.where(drought_values < drought_threshold, drought_values, 0), axis=0)\n"
      ],
      "metadata": {
        "id": "B0weK-H7GtGg"
      },
      "execution_count": null,
      "outputs": []
    },
    {
      "cell_type": "markdown",
      "source": [
        "# Calculate Drought Peak\n",
        "Find the lowest (most extreme negative) value for each pixel.\n"
      ],
      "metadata": {
        "id": "VgEQASjYGwIA"
      }
    },
    {
      "cell_type": "code",
      "source": [
        "drought_peak = np.min(drought_values, axis=0)\n"
      ],
      "metadata": {
        "id": "LKy0LxLzG7Qw"
      },
      "execution_count": null,
      "outputs": []
    },
    {
      "cell_type": "markdown",
      "source": [
        "# Save Computed Metrics as Raster Files\n",
        "Convert your computed arrays into GeoTIFFs for mapping."
      ],
      "metadata": {
        "id": "OteIeJKuG9uX"
      }
    },
    {
      "cell_type": "code",
      "source": [
        "def save_raster(output_path, data, reference_raster):\n",
        "    with rasterio.open(reference_raster) as src:\n",
        "        meta = src.meta.copy()\n",
        "\n",
        "    meta.update(dtype=rasterio.float32, count=1)\n",
        "\n",
        "    with rasterio.open(output_path, 'w', **meta) as dst:\n",
        "        dst.write(data.astype(rasterio.float32), 1)\n",
        "\n",
        "# Define input reference raster (replace with your raster)\n",
        "reference_raster = \"your_reference.tif\"\n",
        "\n",
        "# Save each metric\n",
        "save_raster(\"drought_frequency.tif\", drought_frequency, reference_raster)\n",
        "save_raster(\"drought_duration.tif\", drought_duration, reference_raster)\n",
        "save_raster(\"drought_severity.tif\", drought_severity, reference_raster)\n",
        "save_raster(\"drought_peak.tif\", drought_peak, reference_raster)\n"
      ],
      "metadata": {
        "id": "PE3HqXqAHCHY"
      },
      "execution_count": null,
      "outputs": []
    },
    {
      "cell_type": "markdown",
      "source": [
        "# Visualize Drought Metrics as Maps\n",
        "Use matplotlib to plot the rasters."
      ],
      "metadata": {
        "id": "Z8iplOYGHETw"
      }
    },
    {
      "cell_type": "code",
      "source": [
        "import matplotlib.pyplot as plt\n",
        "from rasterio.plot import show\n",
        "\n",
        "def plot_raster(file_path, title, cmap):\n",
        "    with rasterio.open(file_path) as src:\n",
        "        data = src.read(1)\n",
        "        extent = [src.bounds.left, src.bounds.right, src.bounds.bottom, src.bounds.top]\n",
        "\n",
        "    plt.figure(figsize=(8, 6))\n",
        "    plt.imshow(data, cmap=cmap, extent=extent)\n",
        "    plt.colorbar(label=title)\n",
        "    plt.title(title)\n",
        "    plt.xlabel(\"Longitude\")\n",
        "    plt.ylabel(\"Latitude\")\n",
        "    plt.show()\n",
        "\n",
        "# Plot each map\n",
        "plot_raster(\"drought_frequency.tif\", \"Drought Frequency\", \"OrRd\")\n",
        "plot_raster(\"drought_duration.tif\", \"Drought Duration\", \"YlGnBu\")\n",
        "plot_raster(\"drought_severity.tif\", \"Drought Severity\", \"RdBu_r\")\n",
        "plot_raster(\"drought_peak.tif\", \"Drought Peak\", \"coolwarm\")\n"
      ],
      "metadata": {
        "id": "K6se7dvhHIRA"
      },
      "execution_count": null,
      "outputs": []
    },
    {
      "cell_type": "markdown",
      "source": [
        "# Final Map Layout (Multi-Panel Plot)\n",
        "To create a multi-panel layout like the one in your image:"
      ],
      "metadata": {
        "id": "q2rd07MfHPRg"
      }
    },
    {
      "cell_type": "code",
      "source": [
        "fig, axes = plt.subplots(2, 2, figsize=(12, 10))\n",
        "\n",
        "# Define raster files and titles\n",
        "metrics = [\"drought_frequency.tif\", \"drought_duration.tif\", \"drought_severity.tif\", \"drought_peak.tif\"]\n",
        "titles = [\"(a) Frequency\", \"(b) Duration\", \"(c) Severity\", \"(d) Peak\"]\n",
        "cmaps = [\"OrRd\", \"YlGnBu\", \"RdBu_r\", \"coolwarm\"]\n",
        "\n",
        "for i, ax in enumerate(axes.flat):\n",
        "    with rasterio.open(metrics[i]) as src:\n",
        "        data = src.read(1)\n",
        "        extent = [src.bounds.left, src.bounds.right, src.bounds.bottom, src.bounds.top]\n",
        "\n",
        "    im = ax.imshow(data, cmap=cmaps[i], extent=extent)\n",
        "    plt.colorbar(im, ax=ax)\n",
        "    ax.set_title(titles[i])\n",
        "    ax.set_xlabel(\"Longitude\")\n",
        "    ax.set_ylabel(\"Latitude\")\n",
        "\n",
        "plt.tight_layout()\n",
        "plt.show()\n"
      ],
      "metadata": {
        "id": "Q_tKsJ3uHTdP"
      },
      "execution_count": null,
      "outputs": []
    },
    {
      "cell_type": "markdown",
      "source": [
        "# Export Maps for Publication\n",
        "Once the maps are generated, you can export them as high-resolution PNG or PDF files."
      ],
      "metadata": {
        "id": "-zYkxuRRHVj4"
      }
    },
    {
      "cell_type": "code",
      "source": [
        "plt.savefig(\"drought_metrics_map.png\", dpi=300, bbox_inches='tight')\n",
        "plt.savefig(\"drought_metrics_map.pdf\", dpi=300, bbox_inches='tight')\n"
      ],
      "metadata": {
        "id": "0jXcS14RHbZ4"
      },
      "execution_count": null,
      "outputs": []
    },
    {
      "cell_type": "markdown",
      "source": [
        "# **Convert GeoTIFF Stack to NetCDF**\n"
      ],
      "metadata": {
        "id": "dgWgqeHmHdf4"
      }
    },
    {
      "cell_type": "markdown",
      "source": [
        "If you have a folder with 240 monthly drought index rasters, use rasterio and xarray to convert them."
      ],
      "metadata": {
        "id": "DlQ5GmmoHnnw"
      }
    },
    {
      "cell_type": "markdown",
      "source": [
        "# Import Required Libraries"
      ],
      "metadata": {
        "id": "eWkSm19dHvS5"
      }
    },
    {
      "cell_type": "code",
      "source": [
        "import os\n",
        "import numpy as np\n",
        "import xarray as xr\n",
        "import rasterio\n",
        "from rasterio.plot import show\n",
        "\n",
        "# Define input folder containing 240 monthly drought index GeoTIFFs\n",
        "input_folder = \"drought_tifs\"\n",
        "\n",
        "# List all raster files (Assume filenames like 'SPI_2001_01.tif', 'SPI_2001_02.tif', ...)\n",
        "tif_files = sorted([f for f in os.listdir(input_folder) if f.endswith(\".tif\")])\n",
        "\n",
        "# Read first raster to get metadata\n",
        "with rasterio.open(os.path.join(input_folder, tif_files[0])) as src:\n",
        "    meta = src.meta\n",
        "    width, height = src.width, src.height\n",
        "    transform = src.transform\n",
        "    crs = src.crs\n",
        "    lon_min, lon_max = src.bounds.left, src.bounds.right\n",
        "    lat_min, lat_max = src.bounds.bottom, src.bounds.top\n",
        "\n",
        "# Create latitude and longitude arrays\n",
        "lon = np.linspace(lon_min, lon_max, width)\n",
        "lat = np.linspace(lat_min, lat_max, height)\n"
      ],
      "metadata": {
        "id": "iR_sIyODHomh"
      },
      "execution_count": null,
      "outputs": []
    },
    {
      "cell_type": "markdown",
      "source": [
        "# Stack All Rasters as a Time-Series Array"
      ],
      "metadata": {
        "id": "6m6yHfw2H1lo"
      }
    },
    {
      "cell_type": "code",
      "source": [
        "# Create empty 3D NumPy array for storing data (Time, Lat, Lon)\n",
        "drought_array = np.empty((len(tif_files), height, width))\n",
        "\n",
        "# Read each raster and store in the array\n",
        "for i, tif_file in enumerate(tif_files):\n",
        "    with rasterio.open(os.path.join(input_folder, tif_file)) as src:\n",
        "        drought_array[i, :, :] = src.read(1)  # Read band 1\n",
        "\n",
        "# Generate time values (Assuming monthly data from Jan 2001 to Dec 2020)\n",
        "time_values = np.arange(np.datetime64('2001-01'), np.datetime64('2021-01'), np.timedelta64(1, 'M'))\n",
        "\n",
        "# Create Xarray Dataset\n",
        "drought_ds = xr.Dataset(\n",
        "    {\n",
        "        \"Drought_Index\": ([\"time\", \"lat\", \"lon\"], drought_array)\n",
        "    },\n",
        "    coords={\n",
        "        \"time\": time_values,\n",
        "        \"lat\": lat[::-1],  # Reverse latitude to match the correct orientation\n",
        "        \"lon\": lon\n",
        "    }\n",
        ")\n",
        "\n",
        "# Save to NetCDF\n",
        "drought_ds.to_netcdf(\"drought_data.nc\")\n",
        "\n",
        "print(\"NetCDF file 'drought_data.nc' created successfully!\")\n"
      ],
      "metadata": {
        "id": "-JIv5VyPH7sB"
      },
      "execution_count": null,
      "outputs": []
    },
    {
      "cell_type": "markdown",
      "source": [
        "# Verify NetCDF File"
      ],
      "metadata": {
        "id": "IKFKPWMsH-uq"
      }
    },
    {
      "cell_type": "code",
      "source": [
        "import xarray as xr\n",
        "\n",
        "# Load the NetCDF file\n",
        "drought_ds = xr.open_dataset(\"drought_data.nc\")\n",
        "\n",
        "# Print dataset structure\n",
        "print(drought_ds)\n"
      ],
      "metadata": {
        "id": "TXgKcmdEIXRB"
      },
      "execution_count": null,
      "outputs": []
    },
    {
      "cell_type": "markdown",
      "source": [
        "# Visualize the NetCDF Data"
      ],
      "metadata": {
        "id": "xst7UTwJIaHn"
      }
    },
    {
      "cell_type": "code",
      "source": [
        "import matplotlib.pyplot as plt\n",
        "\n",
        "# Select a time step (e.g., first month)\n",
        "drought_ds[\"Drought_Index\"].isel(time=0).plot(cmap=\"RdBu_r\")\n",
        "\n",
        "plt.title(\"Drought Index - First Month\")\n",
        "plt.show()\n"
      ],
      "metadata": {
        "id": "FLBtSZKYIffY"
      },
      "execution_count": null,
      "outputs": []
    }
  ]
}