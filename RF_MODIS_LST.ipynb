{
  "nbformat": 4,
  "nbformat_minor": 0,
  "metadata": {
    "colab": {
      "provenance": [],
      "mount_file_id": "12Mfi6wkmPQoPcXgkWoJokRnwUzSyQnIG",
      "authorship_tag": "ABX9TyOVPLPOFz7epW4fIU58nGpC",
      "include_colab_link": true
    },
    "kernelspec": {
      "name": "python3",
      "display_name": "Python 3"
    },
    "language_info": {
      "name": "python"
    }
  },
  "cells": [
    {
      "cell_type": "markdown",
      "metadata": {
        "id": "view-in-github",
        "colab_type": "text"
      },
      "source": [
        "<a href=\"https://colab.research.google.com/github/TewabeTigp/MODIS_LST/blob/main/RF_MODIS_LST.ipynb\" target=\"_parent\"><img src=\"https://colab.research.google.com/assets/colab-badge.svg\" alt=\"Open In Colab\"/></a>"
      ]
    },
    {
      "cell_type": "code",
      "source": [
        "%pip install rasterio"
      ],
      "metadata": {
        "id": "b9hqSR_EMUpa"
      },
      "execution_count": null,
      "outputs": []
    },
    {
      "cell_type": "code",
      "source": [
        "%pip install rasterio numpy matplotlib\n"
      ],
      "metadata": {
        "id": "rIAKPQpXPMVT"
      },
      "execution_count": null,
      "outputs": []
    },
    {
      "cell_type": "markdown",
      "source": [
        "# **Import Required Libraries**"
      ],
      "metadata": {
        "id": "dfdKpISQBYDp"
      }
    },
    {
      "cell_type": "code",
      "execution_count": 3,
      "metadata": {
        "id": "pMcWztuFLtsQ"
      },
      "outputs": [],
      "source": [
        "import numpy as np\n",
        "import pandas as pd\n",
        "import rasterio\n",
        "from rasterio.plot import show\n",
        "import matplotlib.pyplot as plt\n",
        "import seaborn as sns\n",
        "from sklearn.model_selection import train_test_split\n",
        "from sklearn.ensemble import RandomForestRegressor\n",
        "from sklearn.metrics import mean_absolute_error, mean_squared_error, r2_score\n",
        "\n"
      ]
    },
    {
      "cell_type": "markdown",
      "source": [
        "# **Load Stacked GeoTIFF File**"
      ],
      "metadata": {
        "id": "YuXdDvsDCYDY"
      }
    },
    {
      "cell_type": "code",
      "source": [
        "# Define the path to the stacked GeoTIFF file\n",
        "input_tif = \"path/to/stacked_data.tif\"\n",
        "\n",
        "# Open the raster file\n",
        "with rasterio.open(input_tif) as src:\n",
        "    profile = src.profile  # Store metadata for saving results\n",
        "    data = src.read()  # Read all bands (Shape: [Bands, Height, Width])\n",
        "    transform = src.transform  # Get the transformation matrix\n",
        "    crs = src.crs  # Get the coordinate reference system\n",
        "\n",
        "# Display raster properties\n",
        "print(f\"Raster Shape: {data.shape} (Bands, Height, Width)\")\n",
        "print(f\"CRS: {crs}\")\n",
        "print(f\"Transform: {transform}\")\n"
      ],
      "metadata": {
        "id": "7SQkOQepCapb"
      },
      "execution_count": null,
      "outputs": []
    },
    {
      "cell_type": "markdown",
      "source": [
        "# **Reshape the Raster Data**"
      ],
      "metadata": {
        "id": "7VXCxYG6CnWp"
      }
    },
    {
      "cell_type": "code",
      "source": [
        "# Reshape raster data into 2D array (pixels as rows, bands as columns)\n",
        "bands, height, width = data.shape\n",
        "reshaped_data = data.reshape(bands, height * width).T  # Transpose to shape (Pixels, Bands)\n",
        "\n",
        "# Convert to DataFrame\n",
        "df = pd.DataFrame(reshaped_data, columns=[\"NDVI\", \"EVI\", \"NDWI\", \"LAI\", \"ALB\", \"ELV\", \"SLP\", \"Fa\", \"CSR\", \"LST\"])\n",
        "\n",
        "# Remove any pixels with NaN values (optional)\n",
        "df = df.dropna().reset_index(drop=True)\n",
        "\n",
        "# Print dataset information\n",
        "print(df.info())\n",
        "print(df.describe())\n"
      ],
      "metadata": {
        "id": "l9RRMP-JCrPi"
      },
      "execution_count": null,
      "outputs": []
    },
    {
      "cell_type": "markdown",
      "source": [
        "# **Define Features and Target**"
      ],
      "metadata": {
        "id": "BMxZ9KZgCt7i"
      }
    },
    {
      "cell_type": "code",
      "source": [
        "# Define independent variables (features)\n",
        "features = [\"NDVI\", \"EVI\", \"NDWI\", \"LAI\", \"ALB\", \"ELV\", \"SLP\", \"Fa\", \"CSR\"]\n",
        "X = df[features]\n",
        "\n",
        "# Define dependent variable (target)\n",
        "y = df[\"LST\"]\n"
      ],
      "metadata": {
        "id": "Fr5dy_l8Cx_T"
      },
      "execution_count": null,
      "outputs": []
    },
    {
      "cell_type": "markdown",
      "source": [
        "# **Train-Test Split**"
      ],
      "metadata": {
        "id": "VyJkhjZUC2Hk"
      }
    },
    {
      "cell_type": "code",
      "source": [
        "# Split data into training (80%) and testing (20%) sets\n",
        "X_train, X_test, y_train, y_test = train_test_split(X, y, test_size=0.2, random_state=42)\n",
        "\n",
        "# Print dataset sizes\n",
        "print(f\"Training data: {X_train.shape}, Testing data: {X_test.shape}\")\n"
      ],
      "metadata": {
        "id": "fpU9fDwqC44-"
      },
      "execution_count": null,
      "outputs": []
    },
    {
      "cell_type": "markdown",
      "source": [
        "# **Train Random Forest Regression Model**"
      ],
      "metadata": {
        "id": "H6WNsKKeC65F"
      }
    },
    {
      "cell_type": "code",
      "source": [
        "# Initialize Random Forest Regressor\n",
        "rf_model = RandomForestRegressor(n_estimators=100, random_state=42, n_jobs=-1)\n",
        "\n",
        "# Train the model\n",
        "rf_model.fit(X_train, y_train)\n",
        "\n",
        "# Print feature importance\n",
        "feature_importances = pd.DataFrame({\"Feature\": features, \"Importance\": rf_model.feature_importances_})\n",
        "feature_importances = feature_importances.sort_values(by=\"Importance\", ascending=False)\n",
        "print(feature_importances)\n"
      ],
      "metadata": {
        "id": "rrpXY5_4C-Ii"
      },
      "execution_count": null,
      "outputs": []
    },
    {
      "cell_type": "markdown",
      "source": [
        "# **Make Predictions on Test Set**"
      ],
      "metadata": {
        "id": "RnuWxG0nDAYr"
      }
    },
    {
      "cell_type": "code",
      "source": [
        "# Predict on test set\n",
        "y_pred = rf_model.predict(X_test)\n",
        "\n",
        "# Calculate model evaluation metrics\n",
        "mae = mean_absolute_error(y_test, y_pred)\n",
        "mse = mean_squared_error(y_test, y_pred)\n",
        "rmse = np.sqrt(mse)\n",
        "r2 = r2_score(y_test, y_pred)\n",
        "\n",
        "print(f\"Mean Absolute Error (MAE): {mae}\")\n",
        "print(f\"Mean Squared Error (MSE): {mse}\")\n",
        "print(f\"Root Mean Squared Error (RMSE): {rmse}\")\n",
        "print(f\"R-squared (R2): {r2}\")\n"
      ],
      "metadata": {
        "id": "z0QqSMVIDEGE"
      },
      "execution_count": null,
      "outputs": []
    },
    {
      "cell_type": "markdown",
      "source": [
        "# **Predict LST for Entire Image**"
      ],
      "metadata": {
        "id": "k6UeEUbaDGu0"
      }
    },
    {
      "cell_type": "code",
      "source": [
        "# Predict LST for all pixels\n",
        "predicted_lst = rf_model.predict(reshaped_data[:, :-1])  # Exclude LST from features\n",
        "\n",
        "# Reshape predicted LST back to the original raster shape\n",
        "predicted_lst_raster = predicted_lst.reshape(height, width)\n"
      ],
      "metadata": {
        "id": "Slr8dWOyDKrK"
      },
      "execution_count": null,
      "outputs": []
    },
    {
      "cell_type": "markdown",
      "source": [
        "# **Save the Predicted LST as a GeoTIFF**"
      ],
      "metadata": {
        "id": "GKyKxmJjDNeK"
      }
    },
    {
      "cell_type": "code",
      "source": [
        "# Define output file path\n",
        "output_tif = \"path/to/predicted_lst.tif\"\n",
        "\n",
        "# Update metadata for saving the output\n",
        "profile.update(dtype=rasterio.float32, count=1)\n",
        "\n",
        "# Write to a new GeoTIFF file\n",
        "with rasterio.open(output_tif, \"w\", **profile) as dst:\n",
        "    dst.write(predicted_lst_raster.astype(np.float32), 1)\n",
        "\n",
        "print(f\"Predicted LST saved as {output_tif}\")\n"
      ],
      "metadata": {
        "id": "YGzMa5FNDUKS"
      },
      "execution_count": null,
      "outputs": []
    },
    {
      "cell_type": "markdown",
      "source": [
        "# **Plot the Results**"
      ],
      "metadata": {
        "id": "pVotAbqfDZ2U"
      }
    },
    {
      "cell_type": "code",
      "source": [
        "# Plot the original and predicted LST side by side\n",
        "fig, ax = plt.subplots(1, 2, figsize=(12, 5))\n",
        "\n",
        "# Plot original LST\n",
        "ax[0].imshow(data[-1], cmap=\"jet\")  # Assuming LST is the last band\n",
        "ax[0].set_title(\"Original LST\")\n",
        "ax[0].axis(\"off\")\n",
        "\n",
        "# Plot predicted LST\n",
        "ax[1].imshow(predicted_lst_raster, cmap=\"jet\")\n",
        "ax[1].set_title(\"Predicted LST (RF Model)\")\n",
        "ax[1].axis(\"off\")\n",
        "\n",
        "plt.tight_layout()\n",
        "plt.show()\n"
      ],
      "metadata": {
        "id": "ui3-1vxlDWya"
      },
      "execution_count": null,
      "outputs": []
    },
    {
      "cell_type": "markdown",
      "source": [
        "# **Implementing Spatial Cross-Validation**"
      ],
      "metadata": {
        "id": "SkN5nfcwDd3K"
      }
    },
    {
      "cell_type": "code",
      "source": [
        "%pip install geopandas scikit-learn-extra\n"
      ],
      "metadata": {
        "id": "blIv9oVGDtBW"
      },
      "execution_count": null,
      "outputs": []
    },
    {
      "cell_type": "markdown",
      "source": [
        "Define Spatial Folds"
      ],
      "metadata": {
        "id": "bFCt0fHZENOT"
      }
    },
    {
      "cell_type": "code",
      "source": [
        "import geopandas as gpd\n",
        "from sklearn.model_selection import GroupKFold\n",
        "\n",
        "# Load spatial data (ensure df contains \"Longitude\" and \"Latitude\" columns)\n",
        "gdf = gpd.GeoDataFrame(df, geometry=gpd.points_from_xy(df[\"Longitude\"], df[\"Latitude\"]))\n",
        "\n",
        "# Define number of spatial folds\n",
        "num_folds = 5\n",
        "group_kfold = GroupKFold(n_splits=num_folds)\n",
        "\n",
        "# Assign groups based on spatial clustering (e.g., k-means or region-based)\n",
        "gdf[\"Region\"] = pd.qcut(gdf[\"Longitude\"], num_folds, labels=False)\n",
        "\n",
        "# Perform spatial cross-validation\n",
        "for fold, (train_idx, test_idx) in enumerate(group_kfold.split(gdf, groups=gdf[\"Region\"])):\n",
        "    X_train, X_test = X.iloc[train_idx], X.iloc[test_idx]\n",
        "    y_train, y_test = y.iloc[train_idx], y.iloc[test_idx]\n",
        "\n",
        "    # Train Random Forest model\n",
        "    rf_model = RandomForestRegressor(n_estimators=100, random_state=42, n_jobs=-1)\n",
        "    rf_model.fit(X_train, y_train)\n",
        "\n",
        "    # Predict\n",
        "    y_pred = rf_model.predict(X_test)\n",
        "\n",
        "    # Evaluate model performance for each fold\n",
        "    print(f\"Fold {fold + 1}:\")\n",
        "    print(f\"  MAE: {mean_absolute_error(y_test, y_pred):.4f}\")\n",
        "    print(f\"  RMSE: {np.sqrt(mean_squared_error(y_test, y_pred)):.4f}\")\n",
        "    print(f\"  R²: {r2_score(y_test, y_pred):.4f}\\n\")\n"
      ],
      "metadata": {
        "id": "3cQib5EsDwY5"
      },
      "execution_count": null,
      "outputs": []
    },
    {
      "cell_type": "markdown",
      "source": [
        "# **Estimating Prediction Uncertainty**"
      ],
      "metadata": {
        "id": "vVOK7oK4D90x"
      }
    },
    {
      "cell_type": "code",
      "source": [
        "%pip install mapie\n"
      ],
      "metadata": {
        "id": "3WXBAfGtEB45"
      },
      "execution_count": null,
      "outputs": []
    },
    {
      "cell_type": "markdown",
      "source": [
        "Quantile Regression for Uncertainty"
      ],
      "metadata": {
        "id": "exh5ctUZEJVi"
      }
    },
    {
      "cell_type": "code",
      "source": [
        "from mapie.regression import MapieRegressor\n",
        "from sklearn.ensemble import RandomForestQuantileRegressor\n",
        "\n",
        "# Train Quantile Random Forest Model\n",
        "qrf = RandomForestQuantileRegressor(n_estimators=100, random_state=42, n_jobs=-1)\n",
        "qrf.fit(X_train, y_train)\n",
        "\n",
        "# Predict median (50th percentile), lower (5th percentile), and upper (95th percentile) bounds\n",
        "y_pred_median = qrf.predict(X_test, quantile=0.5)\n",
        "y_pred_lower = qrf.predict(X_test, quantile=0.05)\n",
        "y_pred_upper = qrf.predict(X_test, quantile=0.95)\n",
        "\n",
        "# Compute prediction interval width\n",
        "interval_width = y_pred_upper - y_pred_lower\n",
        "\n",
        "# Plot prediction intervals\n",
        "plt.figure(figsize=(10, 5))\n",
        "plt.scatter(y_test, y_pred_median, label=\"Predicted LST\", alpha=0.6)\n",
        "plt.fill_between(y_test, y_pred_lower, y_pred_upper, color=\"gray\", alpha=0.3, label=\"95% Confidence Interval\")\n",
        "plt.plot([min(y_test), max(y_test)], [min(y_test), max(y_test)], \"--r\", label=\"Ideal Fit\")\n",
        "plt.xlabel(\"Observed LST\")\n",
        "plt.ylabel(\"Predicted LST\")\n",
        "plt.legend()\n",
        "plt.title(\"LST Prediction with Uncertainty Intervals\")\n",
        "plt.show()\n"
      ],
      "metadata": {
        "id": "W2v__7TCEGlC"
      },
      "execution_count": null,
      "outputs": []
    },
    {
      "cell_type": "markdown",
      "source": [
        "# **Bayesian Uncertainty Estimation**"
      ],
      "metadata": {
        "id": "00fvqgMbEZtx"
      }
    },
    {
      "cell_type": "code",
      "source": [
        "%pip install scipy\n"
      ],
      "metadata": {
        "id": "H6_-bTbuEbST"
      },
      "execution_count": null,
      "outputs": []
    },
    {
      "cell_type": "markdown",
      "source": [
        "Implement Bayesian Ridge Regression"
      ],
      "metadata": {
        "id": "kEqSIGFOEeux"
      }
    },
    {
      "cell_type": "code",
      "source": [
        "from sklearn.linear_model import BayesianRidge\n",
        "\n",
        "# Train Bayesian Ridge Regression Model\n",
        "bayesian_ridge = BayesianRidge()\n",
        "bayesian_ridge.fit(X_train, y_train)\n",
        "\n",
        "# Predict with uncertainty estimates\n",
        "y_pred, y_std = bayesian_ridge.predict(X_test, return_std=True)\n",
        "\n",
        "# Compute 95% confidence intervals\n",
        "y_pred_lower = y_pred - 1.96 * y_std\n",
        "y_pred_upper = y_pred + 1.96 * y_std\n",
        "\n",
        "# Plot Bayesian uncertainty\n",
        "plt.figure(figsize=(10, 5))\n",
        "plt.scatter(y_test, y_pred, label=\"Predicted LST\", alpha=0.6)\n",
        "plt.fill_between(y_test, y_pred_lower, y_pred_upper, color=\"gray\", alpha=0.3, label=\"95% Confidence Interval\")\n",
        "plt.plot([min(y_test), max(y_test)], [min(y_test), max(y_test)], \"--r\", label=\"Ideal Fit\")\n",
        "plt.xlabel(\"Observed LST\")\n",
        "plt.ylabel(\"Predicted LST\")\n",
        "plt.legend()\n",
        "plt.title(\"Bayesian Uncertainty in LST Prediction\")\n",
        "plt.show()\n"
      ],
      "metadata": {
        "id": "OvwNNGhFEhCE"
      },
      "execution_count": null,
      "outputs": []
    }
  ]
}